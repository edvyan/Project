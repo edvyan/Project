{
 "cells": [
  {
   "cell_type": "code",
   "execution_count": 11,
   "metadata": {},
   "outputs": [],
   "source": [
    "import torch\n",
    "from torch.utils.data import DataLoader, Dataset\n",
    "from transformers import AutoTokenizer, AutoModelForTokenClassification\n",
    "from sklearn.metrics import precision_score, recall_score, f1_score, accuracy_score\n",
    "from torch.nn.functional import softmax"
   ]
  },
  {
   "cell_type": "code",
   "execution_count": 8,
   "metadata": {},
   "outputs": [
    {
     "name": "stdout",
     "output_type": "stream",
     "text": [
      "cuda\n"
     ]
    }
   ],
   "source": [
    "model_name = \"dbmdz/bert-large-cased-finetuned-conll03-english\"\n",
    "device = torch.device(\"cuda\" if torch.cuda.is_available() else \"cpu\")\n",
    "batch_size = 8  # Adjust this based on your GPU memory"
   ]
  },
  {
   "cell_type": "code",
   "execution_count": 9,
   "metadata": {},
   "outputs": [
    {
     "name": "stderr",
     "output_type": "stream",
     "text": [
      "Some weights of the model checkpoint at dbmdz/bert-large-cased-finetuned-conll03-english were not used when initializing BertForTokenClassification: ['bert.pooler.dense.bias', 'bert.pooler.dense.weight']\n",
      "- This IS expected if you are initializing BertForTokenClassification from the checkpoint of a model trained on another task or with another architecture (e.g. initializing a BertForSequenceClassification model from a BertForPreTraining model).\n",
      "- This IS NOT expected if you are initializing BertForTokenClassification from the checkpoint of a model that you expect to be exactly identical (initializing a BertForSequenceClassification model from a BertForSequenceClassification model).\n"
     ]
    },
    {
     "data": {
      "text/plain": [
       "BertForTokenClassification(\n",
       "  (bert): BertModel(\n",
       "    (embeddings): BertEmbeddings(\n",
       "      (word_embeddings): Embedding(28996, 1024, padding_idx=0)\n",
       "      (position_embeddings): Embedding(512, 1024)\n",
       "      (token_type_embeddings): Embedding(2, 1024)\n",
       "      (LayerNorm): LayerNorm((1024,), eps=1e-12, elementwise_affine=True)\n",
       "      (dropout): Dropout(p=0.1, inplace=False)\n",
       "    )\n",
       "    (encoder): BertEncoder(\n",
       "      (layer): ModuleList(\n",
       "        (0-23): 24 x BertLayer(\n",
       "          (attention): BertAttention(\n",
       "            (self): BertSelfAttention(\n",
       "              (query): Linear(in_features=1024, out_features=1024, bias=True)\n",
       "              (key): Linear(in_features=1024, out_features=1024, bias=True)\n",
       "              (value): Linear(in_features=1024, out_features=1024, bias=True)\n",
       "              (dropout): Dropout(p=0.1, inplace=False)\n",
       "            )\n",
       "            (output): BertSelfOutput(\n",
       "              (dense): Linear(in_features=1024, out_features=1024, bias=True)\n",
       "              (LayerNorm): LayerNorm((1024,), eps=1e-12, elementwise_affine=True)\n",
       "              (dropout): Dropout(p=0.1, inplace=False)\n",
       "            )\n",
       "          )\n",
       "          (intermediate): BertIntermediate(\n",
       "            (dense): Linear(in_features=1024, out_features=4096, bias=True)\n",
       "            (intermediate_act_fn): GELUActivation()\n",
       "          )\n",
       "          (output): BertOutput(\n",
       "            (dense): Linear(in_features=4096, out_features=1024, bias=True)\n",
       "            (LayerNorm): LayerNorm((1024,), eps=1e-12, elementwise_affine=True)\n",
       "            (dropout): Dropout(p=0.1, inplace=False)\n",
       "          )\n",
       "        )\n",
       "      )\n",
       "    )\n",
       "  )\n",
       "  (dropout): Dropout(p=0.1, inplace=False)\n",
       "  (classifier): Linear(in_features=1024, out_features=9, bias=True)\n",
       ")"
      ]
     },
     "execution_count": 9,
     "metadata": {},
     "output_type": "execute_result"
    }
   ],
   "source": [
    "# Load model and tokenizer\n",
    "tokenizer = AutoTokenizer.from_pretrained(model_name)\n",
    "model = AutoModelForTokenClassification.from_pretrained(model_name).to(device)\n",
    "model.eval()"
   ]
  },
  {
   "cell_type": "code",
   "execution_count": 12,
   "metadata": {},
   "outputs": [],
   "source": [
    "# Custom Dataset Class\n",
    "class NERDataset(Dataset):\n",
    "    def __init__(self, tokens, labels, tokenizer, label_to_index):\n",
    "        self.tokens = tokens\n",
    "        self.labels = labels\n",
    "        self.tokenizer = tokenizer\n",
    "        self.label_to_index = label_to_index  # Label to index mapping\n",
    "\n",
    "    def __len__(self):\n",
    "        return len(self.tokens)\n",
    "\n",
    "    def __getitem__(self, idx):\n",
    "        return {\"tokens\": self.tokens[idx], \"labels\": self.labels[idx]}\n",
    "\n",
    "    def collate_fn(self, batch):\n",
    "        tokens = [item['tokens'] for item in batch]\n",
    "        labels = [item['labels'] for item in batch]\n",
    "        encoded_inputs = self.tokenizer(tokens, is_split_into_words=True, return_tensors=\"pt\", padding=True, truncation=True)\n",
    "\n",
    "        label_ids = []\n",
    "        for i, label in enumerate(labels):\n",
    "            word_ids = encoded_inputs.word_ids(batch_index=i)\n",
    "            label_indices = [self.label_to_index.get(label_word, -100) for label_word in label]  # Use -100 for unknown or padding\n",
    "            label_ids.append([-100 if word_id is None else label_indices[word_id] for word_id in word_ids])\n",
    "\n",
    "        encoded_inputs['labels'] = torch.tensor(label_ids, dtype=torch.long).to(encoded_inputs.input_ids.device)\n",
    "        return encoded_inputs"
   ]
  },
  {
   "cell_type": "code",
   "execution_count": 19,
   "metadata": {},
   "outputs": [],
   "source": [
    "# Function to read and preprocess the dataset\n",
    "def load_dataset(file_path):\n",
    "    with open(file_path, 'r', encoding='utf-8') as file:\n",
    "        lines = file.readlines()\n",
    "\n",
    "    tokens, labels = [], []\n",
    "    temp_tokens, temp_labels = [], []\n",
    "    for line in lines:\n",
    "        if line.strip() == '':\n",
    "            if temp_tokens:\n",
    "                tokens.append(temp_tokens)\n",
    "                labels.append(temp_labels)\n",
    "                temp_tokens, temp_labels = [], []\n",
    "            continue\n",
    "        parts = line.strip().split()\n",
    "        temp_tokens.append(parts[0])\n",
    "        temp_labels.append(parts[-1])\n",
    "\n",
    "    if temp_tokens:\n",
    "        tokens.append(temp_tokens)\n",
    "        labels.append(temp_labels)\n",
    "\n",
    "    return tokens, labels\n"
   ]
  },
  {
   "cell_type": "code",
   "execution_count": 15,
   "metadata": {},
   "outputs": [],
   "source": [
    "# labels\n",
    "label_to_index = {'O': 0, 'B-PER': 1, 'I-PER': 2, 'B-ORG': 3, 'I-ORG': 4, 'B-LOC': 5, 'I-LOC': 6, 'B-MISC': 7, 'I-MISC': 8}\n",
    "\n",
    "# Load data\n",
    "tokens, labels = load_dataset('data/FIN3.txt')\n",
    "dataset = NERDataset(tokens, labels, tokenizer, label_to_index)\n",
    "loader = DataLoader(dataset, batch_size=batch_size, collate_fn=dataset.collate_fn)\n",
    "\n",
    "# Initialize lists\n",
    "true_labels = []\n",
    "pred_labels = []\n",
    "\n"
   ]
  },
  {
   "cell_type": "code",
   "execution_count": 16,
   "metadata": {},
   "outputs": [],
   "source": [
    "# Model Prediction with Batching\n",
    "for batch in loader:\n",
    "    input_ids = batch['input_ids'].to(device)\n",
    "    attention_mask = batch['attention_mask'].to(device)\n",
    "    label_ids = batch['labels'].to(device)\n",
    "\n",
    "    with torch.no_grad():\n",
    "        outputs = model(input_ids, attention_mask=attention_mask)\n",
    "    logits = outputs.logits\n",
    "    predictions = torch.argmax(softmax(logits, dim=2), dim=2)\n",
    "\n",
    "    for i in range(input_ids.size(0)):\n",
    "        mask = attention_mask[i].bool()\n",
    "        prediction = predictions[i][mask].cpu().numpy()\n",
    "        true_labels_batch = label_ids[i][mask].cpu().numpy()\n",
    "        pred_labels_batch = [model.config.id2label[pred] for pred in prediction]\n",
    "\n",
    "        true_labels.extend(true_labels_batch)\n",
    "        pred_labels.extend(pred_labels_batch)\n",
    "\n"
   ]
  },
  {
   "cell_type": "code",
   "execution_count": 21,
   "metadata": {},
   "outputs": [],
   "source": [
    "pred_labels_indices = [label_to_index.get(label, -100) for label in pred_labels]  # Ensure all predicted labels are integers\n",
    "true_labels_indices = [label_to_index.get(label, -100) if isinstance(label, str) else label for label in true_labels]"
   ]
  },
  {
   "cell_type": "code",
   "execution_count": 22,
   "metadata": {},
   "outputs": [],
   "source": [
    "# calculate metrics\n",
    "precision = precision_score(true_labels_indices, pred_labels_indices, average='macro', zero_division=0)\n",
    "recall = recall_score(true_labels_indices, pred_labels_indices, average='macro', zero_division=0)\n",
    "f1 = f1_score(true_labels_indices, pred_labels_indices, average='macro', zero_division=0)\n",
    "accuracy = accuracy_score(true_labels_indices, pred_labels_indices)"
   ]
  },
  {
   "cell_type": "code",
   "execution_count": 23,
   "metadata": {},
   "outputs": [
    {
     "name": "stdout",
     "output_type": "stream",
     "text": [
      "Precision: 0.8689224729273751\n",
      "Recall: 0.8851114769094417\n",
      "F1-Score: 0.86862560674615774\n",
      "Accuracy: 0.9266313309776207\n"
     ]
    }
   ],
   "source": [
    "print(f\"Precision: {precision}\")\n",
    "print(f\"Recall: {recall}\")\n",
    "print(f\"F1-Score: {f1}\")\n",
    "print(f\"Accuracy: {accuracy}\")\n"
   ]
  }
 ],
 "metadata": {
  "kernelspec": {
   "display_name": "Python 3",
   "language": "python",
   "name": "python3"
  },
  "language_info": {
   "codemirror_mode": {
    "name": "ipython",
    "version": 3
   },
   "file_extension": ".py",
   "mimetype": "text/x-python",
   "name": "python",
   "nbconvert_exporter": "python",
   "pygments_lexer": "ipython3",
   "version": "3.10.11"
  }
 },
 "nbformat": 4,
 "nbformat_minor": 2
}
